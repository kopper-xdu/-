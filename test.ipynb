{
 "cells": [
  {
   "cell_type": "code",
   "execution_count": 1,
   "metadata": {},
   "outputs": [],
   "source": [
    "import torch\n",
    "from torch.utils.data import DataLoader\n",
    "from dataset import dataset\n",
    "from model import Net"
   ]
  },
  {
   "cell_type": "code",
   "execution_count": 24,
   "metadata": {},
   "outputs": [],
   "source": [
    "data = dataset()\n",
    "data_loader = DataLoader(data, batch_size=20116, shuffle=True)"
   ]
  },
  {
   "cell_type": "code",
   "execution_count": 23,
   "metadata": {},
   "outputs": [
    {
     "data": {
      "text/plain": [
       "20116"
      ]
     },
     "execution_count": 23,
     "metadata": {},
     "output_type": "execute_result"
    }
   ],
   "source": [
    "len(data)"
   ]
  },
  {
   "cell_type": "code",
   "execution_count": 28,
   "metadata": {},
   "outputs": [
    {
     "data": {
      "text/plain": [
       "Net(\n",
       "  (fc1): Sequential(\n",
       "    (0): Linear(in_features=22, out_features=256, bias=True)\n",
       "    (1): BatchNorm1d(256, eps=1e-05, momentum=0.1, affine=True, track_running_stats=True)\n",
       "    (2): Dropout(p=0, inplace=False)\n",
       "    (3): ReLU()\n",
       "  )\n",
       "  (fc2): Sequential(\n",
       "    (0): Linear(in_features=256, out_features=512, bias=True)\n",
       "    (1): BatchNorm1d(512, eps=1e-05, momentum=0.1, affine=True, track_running_stats=True)\n",
       "    (2): Dropout(p=0, inplace=False)\n",
       "    (3): ReLU()\n",
       "  )\n",
       "  (fc3): Sequential(\n",
       "    (0): Linear(in_features=512, out_features=128, bias=True)\n",
       "    (1): BatchNorm1d(128, eps=1e-05, momentum=0.1, affine=True, track_running_stats=True)\n",
       "    (2): Dropout(p=0, inplace=False)\n",
       "    (3): ReLU()\n",
       "  )\n",
       "  (linear): Linear(in_features=128, out_features=5, bias=True)\n",
       ")"
      ]
     },
     "execution_count": 28,
     "metadata": {},
     "output_type": "execute_result"
    }
   ],
   "source": [
    "device = torch.device('cuda')\n",
    "epochs = 100\n",
    "net = Net()\n",
    "net.to(device).train()"
   ]
  },
  {
   "cell_type": "code",
   "execution_count": 41,
   "metadata": {},
   "outputs": [],
   "source": [
    "criterion = torch.nn.CrossEntropyLoss()\n",
    "optimizer = torch.optim.SGD(net.parameters(), lr=0.009, weight_decay=0.001)"
   ]
  },
  {
   "cell_type": "code",
   "execution_count": 42,
   "metadata": {},
   "outputs": [
    {
     "name": "stdout",
     "output_type": "stream",
     "text": [
      "epoch0, iter:0, loss:0.6476523280143738\n",
      "epoch1, iter:0, loss:0.6473448276519775\n",
      "epoch2, iter:0, loss:0.6470348238945007\n",
      "epoch3, iter:0, loss:0.6467192769050598\n",
      "epoch4, iter:0, loss:0.646409809589386\n",
      "epoch5, iter:0, loss:0.646106481552124\n",
      "epoch6, iter:0, loss:0.6457936763763428\n",
      "epoch7, iter:0, loss:0.6454874873161316\n",
      "epoch8, iter:0, loss:0.6451804041862488\n",
      "epoch9, iter:0, loss:0.6448734998703003\n",
      "epoch10, iter:0, loss:0.6445614695549011\n",
      "epoch11, iter:0, loss:0.6442578434944153\n",
      "epoch12, iter:0, loss:0.6439491510391235\n",
      "epoch13, iter:0, loss:0.6436414122581482\n",
      "epoch14, iter:0, loss:0.6433368921279907\n",
      "epoch15, iter:0, loss:0.6430345773696899\n",
      "epoch16, iter:0, loss:0.6427216529846191\n",
      "epoch17, iter:0, loss:0.6424110531806946\n",
      "epoch18, iter:0, loss:0.6421051025390625\n",
      "epoch19, iter:0, loss:0.6417929530143738\n",
      "epoch20, iter:0, loss:0.641486406326294\n",
      "epoch21, iter:0, loss:0.641178548336029\n",
      "epoch22, iter:0, loss:0.6408697962760925\n",
      "epoch23, iter:0, loss:0.6405674815177917\n",
      "epoch24, iter:0, loss:0.6402650475502014\n",
      "epoch25, iter:0, loss:0.639955461025238\n",
      "epoch26, iter:0, loss:0.6396583318710327\n",
      "epoch27, iter:0, loss:0.6393519043922424\n",
      "epoch28, iter:0, loss:0.6390522122383118\n",
      "epoch29, iter:0, loss:0.6387512683868408\n",
      "epoch30, iter:0, loss:0.6384562253952026\n",
      "epoch31, iter:0, loss:0.6381588578224182\n",
      "epoch32, iter:0, loss:0.6378558874130249\n",
      "epoch33, iter:0, loss:0.6375566720962524\n",
      "epoch34, iter:0, loss:0.6372614502906799\n",
      "epoch35, iter:0, loss:0.6369566917419434\n",
      "epoch36, iter:0, loss:0.6366593837738037\n",
      "epoch37, iter:0, loss:0.636355459690094\n",
      "epoch38, iter:0, loss:0.6360485553741455\n",
      "epoch39, iter:0, loss:0.6357526779174805\n",
      "epoch40, iter:0, loss:0.6354597210884094\n",
      "epoch41, iter:0, loss:0.6351688504219055\n",
      "epoch42, iter:0, loss:0.6348634362220764\n",
      "epoch43, iter:0, loss:0.6345699429512024\n",
      "epoch44, iter:0, loss:0.6342734098434448\n",
      "epoch45, iter:0, loss:0.633979082107544\n",
      "epoch46, iter:0, loss:0.6336851716041565\n",
      "epoch47, iter:0, loss:0.6333903670310974\n",
      "epoch48, iter:0, loss:0.633087158203125\n",
      "epoch49, iter:0, loss:0.6327958106994629\n",
      "epoch50, iter:0, loss:0.6325071454048157\n",
      "epoch51, iter:0, loss:0.632218062877655\n",
      "epoch52, iter:0, loss:0.6319215297698975\n",
      "epoch53, iter:0, loss:0.6316275596618652\n",
      "epoch54, iter:0, loss:0.6313390135765076\n",
      "epoch55, iter:0, loss:0.6310471296310425\n",
      "epoch56, iter:0, loss:0.6307498812675476\n",
      "epoch57, iter:0, loss:0.6304692029953003\n",
      "epoch58, iter:0, loss:0.63017338514328\n",
      "epoch59, iter:0, loss:0.629889965057373\n",
      "epoch60, iter:0, loss:0.6295971870422363\n",
      "epoch61, iter:0, loss:0.6293159127235413\n",
      "epoch62, iter:0, loss:0.6290203332901001\n",
      "epoch63, iter:0, loss:0.6287325024604797\n",
      "epoch64, iter:0, loss:0.6284456849098206\n",
      "epoch65, iter:0, loss:0.6281622648239136\n",
      "epoch66, iter:0, loss:0.6278775334358215\n",
      "epoch67, iter:0, loss:0.6275889873504639\n",
      "epoch68, iter:0, loss:0.6273053288459778\n",
      "epoch69, iter:0, loss:0.6270197033882141\n",
      "epoch70, iter:0, loss:0.6267421841621399\n",
      "epoch71, iter:0, loss:0.6264556050300598\n",
      "epoch72, iter:0, loss:0.6261763572692871\n",
      "epoch73, iter:0, loss:0.625887930393219\n",
      "epoch74, iter:0, loss:0.6256092190742493\n",
      "epoch75, iter:0, loss:0.625326931476593\n",
      "epoch76, iter:0, loss:0.6250430941581726\n",
      "epoch77, iter:0, loss:0.6247578263282776\n",
      "epoch78, iter:0, loss:0.6244781613349915\n",
      "epoch79, iter:0, loss:0.6241971850395203\n",
      "epoch80, iter:0, loss:0.6239123344421387\n",
      "epoch81, iter:0, loss:0.6236221790313721\n",
      "epoch82, iter:0, loss:0.6233395338058472\n",
      "epoch83, iter:0, loss:0.6230553984642029\n",
      "epoch84, iter:0, loss:0.6227714419364929\n",
      "epoch85, iter:0, loss:0.622490406036377\n",
      "epoch86, iter:0, loss:0.6222074031829834\n",
      "epoch87, iter:0, loss:0.6219254732131958\n",
      "epoch88, iter:0, loss:0.6216487288475037\n",
      "epoch89, iter:0, loss:0.6213635206222534\n",
      "epoch90, iter:0, loss:0.6210862398147583\n",
      "epoch91, iter:0, loss:0.6208056211471558\n",
      "epoch92, iter:0, loss:0.6205430030822754\n",
      "epoch93, iter:0, loss:0.6202613115310669\n",
      "epoch94, iter:0, loss:0.6199811697006226\n",
      "epoch95, iter:0, loss:0.6197085380554199\n",
      "epoch96, iter:0, loss:0.6194275617599487\n",
      "epoch97, iter:0, loss:0.6191526651382446\n",
      "epoch98, iter:0, loss:0.6188802123069763\n",
      "epoch99, iter:0, loss:0.6185958981513977\n"
     ]
    }
   ],
   "source": [
    "for epoch in range(epochs):\n",
    "    for i, data in enumerate(data_loader):\n",
    "        x, y = data\n",
    "        x, y = x.to(device), y.to(device)\n",
    "        out = net(x)\n",
    "        loss = criterion(out, y)\n",
    "        optimizer.zero_grad()\n",
    "        loss.backward()\n",
    "        optimizer.step()\n",
    "        \n",
    "        #if (i+1)%10 == 0:\n",
    "        print(f'epoch{epoch}, iter:{i}, loss:{loss}')"
   ]
  },
  {
   "cell_type": "code",
   "execution_count": null,
   "metadata": {},
   "outputs": [],
   "source": []
  }
 ],
 "metadata": {
  "interpreter": {
   "hash": "aebdfc95f66901934e4e20c25b63dc09aa81f8f86f6dd8e6cc476141cbfe7556"
  },
  "kernelspec": {
   "display_name": "d2l",
   "language": "python",
   "name": "d2l"
  },
  "language_info": {
   "codemirror_mode": {
    "name": "ipython",
    "version": 3
   },
   "file_extension": ".py",
   "mimetype": "text/x-python",
   "name": "python",
   "nbconvert_exporter": "python",
   "pygments_lexer": "ipython3",
   "version": "3.9.7"
  },
  "orig_nbformat": 4
 },
 "nbformat": 4,
 "nbformat_minor": 2
}
